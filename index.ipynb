{
 "cells": [
  {
   "cell_type": "markdown",
   "metadata": {},
   "source": [
    "# PCA - Recap\n",
    "\n",
    "\n",
    "## Key Takeaways \n",
    "\n",
    "The key takeaways from this section include: \n",
    "\n",
    "* PCA is an _unsupervised learning technique_ which does not require labeled data \n",
    "* It is also a dimensionality reduction technique which can be used to compress data and experiment with its effects on machine learning algorithms as a preprocessing step \n",
    "* There are four steps to conducting PCA:\n",
    "    * Center each feature by subtracting the feature mean\n",
    "    * Calculate the covariance matrix for your normalized dataset\n",
    "    * Calculate the eigenvectors/eigenvalues for the covariance matrix\n",
    "        * Reorder your eigenvectors based on their accompanying eigenvalues (in descending order of the eigenvalues)\n",
    "    * Take the dot product of the transpose of the eigenvectors with the transpose of the normalized data\n",
    "* You can also easily implement PCA using scikit-learn "
   ]
  }
 ],
 "metadata": {
  "kernelspec": {
   "display_name": "Python 3",
   "language": "python",
   "name": "python3"
  },
  "language_info": {
   "codemirror_mode": {
    "name": "ipython",
    "version": 3
   },
   "file_extension": ".py",
   "mimetype": "text/x-python",
   "name": "python",
   "nbconvert_exporter": "python",
   "pygments_lexer": "ipython3",
   "version": "3.6.9"
  }
 },
 "nbformat": 4,
 "nbformat_minor": 2
}
